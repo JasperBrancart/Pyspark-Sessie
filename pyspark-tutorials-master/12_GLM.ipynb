{
 "cells": [
  {
   "cell_type": "markdown",
   "metadata": {},
   "source": [
    "**pySpark Basics: GLM and Data Preparation**\n",
    "\n",
    "*by Jeff Levy (jlevy@urban.org)*"
   ]
  },
  {
   "cell_type": "markdown",
   "metadata": {},
   "source": [
    "Last Updated: 29 Aug 2016, Spark v2.0\n",
    "\n",
    "_**Abstract**: We will explore preparing your data for analysis in pySpark, in particular configuring the independent variables.  Then we will test it on the GLM function and show how to view the results._\n",
    "\n",
    "**_Main operations used:_** *Pipeline, StringIndexer, OneHotEncoder, VectorAssembler, GeneralizedLinearRegression, fit, build_indep_vars, summarizer*"
   ]
  },
  {
   "cell_type": "markdown",
   "metadata": {},
   "source": [
    "***"
   ]
  },
  {
   "cell_type": "markdown",
   "metadata": {},
   "source": [
    "To look at pySpark's GLM capabilities, we will use the simplest example of a gausian error distribution with an identity link function, which is equivalent to OLS.  In our model we'll try to answer a simple question: how does a change in size (carat) affect a dimaond's price when we control for clarity?  We will test the equation:\n",
    "\n",
    "    price = a + B*carat + clarity_dummy_vars + e\n",
    "    \n",
    "Don't worry about the accuracy of this model specification, or the assumptions behind it; our goal is just to compare pySpark's GLM function to something most users will be more familiar with.  \n",
    "\n",
    "# Stata Output\n",
    "\n",
    "Here are the results from Stata, which we can use for comparison because the diamonds dataset we're using for testing isn't actually that large.  Note that `clarity` has to be converted to numeric because Stata can't work with strings - this is also true of pySpark.  In Stata this was done using:\n",
    "\n",
    "    encode clarity, gen(clarity_)\n",
    "    \n",
    "Using the `i.` prefix on a column name in the regression command makes Stata split a categorical column out into dummy variables."
   ]
  },
  {
   "cell_type": "code",
   "execution_count": 8,
   "metadata": {},
   "outputs": [
    {
     "data": {
      "image/png": "[encoded data removed]",
      "text/plain": [
       "<IPython.core.display.Image object>"
      ]
     },
     "execution_count": 8,
     "metadata": {},
     "output_type": "execute_result"
    }
   ],
   "source": [
    "#Here we just use Jupyter's tools to import an image of the Stata output\n",
    "from IPython.display import Image\n",
    "Image(filename='stata_reg.PNG')"
   ]
  },
  {
   "cell_type": "markdown",
   "metadata": {},
   "source": [
    "# pySpark ML Library\n",
    "\n",
    "Next we will compare the Stata output for this simple model to what we can do in pySpark using their ML library, short for Machine Learning.  The nature of distributed computing makes solving models like this more complicated than most researchers are used to: if your data is distributed across 100 computers and there's no possible way it can all be loaded in one place *how do you invert a matrix?*\n",
    "\n",
    "There is more than one approch to parameter estimation to address this, but the one used by pySpark 2.0 is called **L-BFGS**, which stands for Limited Memory Broyden–Fletcher–Goldfarb–Shanno.  Explaining how it works is beyond the scope of this simple tutorial, but suffice to say it's an algorithm designed to accomplish parameter estimation in a memory-efficient way that our distributed system can handle.\n",
    "\n",
    "# Configuring Independent Variables\n",
    "\n",
    "Before we run the analysis, we must first set up our data for ML to work with.  pySpark ML analysis tools, such as GLM or OLS, require a particular formatting of the independent variables. The tools they offer for this are powerful and flexible, but require the use of an excessive amount of obscure-looking code to accomplish what most social scientists will be used to achieving in one or two simple lines of Stata or SAS code.\n",
    "\n",
    "The standard formatting **requires exactly two columns** from a dataframe: *a dependent variable column* usually referred to as 'label', and *an independent variable column* usually referred to as 'features'. The dependent variable is simply a column of numerical data; the column for the independent variables must be a *sparse vector*.  \n",
    "\n",
    "*Optional explanation: A sparse vector is a memory-efficient version of a normal vector where, instead of filling in every zero, zero values are automatically filled in during calculation for any missing entries - this makes it more efficient the more zeroes there are in your independent variables.  A model that includes dummy variables is therefore ideal.*\n",
    "\n",
    "In order to skip over a lot of this tedious code, I've written a wrapper that handles it all behind the scenes for you:"
   ]
  },
  {
   "cell_type": "code",
   "execution_count": 9,
   "metadata": {
    "collapsed": true
   },
   "outputs": [],
   "source": [
    "\"\"\"\n",
    "Code copied and pasted from:\n",
    "\n",
    "    https://github.com/UrbanInstitute/pyspark-tutorials/blob/master/indep_vars/build_indep_vars.py\n",
    "    \n",
    "Then deleted from view for display purposes.\n",
    "\"\"\";"
   ]
  },
  {
   "cell_type": "markdown",
   "metadata": {},
   "source": [
    "This function, `build_indep_vars`, takes in as arguments a pySpark dataframe, a list of column names for the independent variables, and an optional list of any independent variables that are categorical.  It then handles in the background getting the data in the proper format and expanding the categorical variable columns into multiple columns of dummy variables.  When completed it returns the original dataframe with a new column added to it named 'indep_vars' that contains the properly formatted vector.\n",
    "\n",
    "It has an additional `summarizer` argument, which defaults to `True`.  This causes `build_indep_vars` to return two things: the modified dataframe and a \"summarizer\" object that knows some things about the data, and has the ability to create a more nicely-formatted summary output (which pySpark does not have natively).\n",
    "\n",
    "Let's demonstrate on some data:"
   ]
  },
  {
   "cell_type": "code",
   "execution_count": 10,
   "metadata": {
    "collapsed": true
   },
   "outputs": [],
   "source": [
    "df = spark.read.csv('s3://ui-spark-social-science-public/data/diamonds.csv', inferSchema=True, header=True, sep=',')"
   ]
  },
  {
   "cell_type": "markdown",
   "metadata": {},
   "source": [
    "We'll trim the dataset to only the columns we're interested in, just for convenience, and add a column for the logged dependent variable:"
   ]
  },
  {
   "cell_type": "code",
   "execution_count": 11,
   "metadata": {
    "collapsed": true
   },
   "outputs": [],
   "source": [
    "df = df[['carat', 'clarity', 'price']]\n",
    "\n",
    "from pyspark.sql.functions import log\n",
    "df = df.withColumn('lprice', log('price'))"
   ]
  },
  {
   "cell_type": "code",
   "execution_count": 12,
   "metadata": {},
   "outputs": [
    {
     "name": "stdout",
     "output_type": "stream",
     "text": [
      "+-----+-------+-----+------------------+\n",
      "|carat|clarity|price|            lprice|\n",
      "+-----+-------+-----+------------------+\n",
      "| 0.23|    SI2|  326| 5.786897381366708|\n",
      "| 0.21|    SI1|  326| 5.786897381366708|\n",
      "| 0.23|    VS1|  327|5.7899601708972535|\n",
      "| 0.29|    VS2|  334| 5.811140992976701|\n",
      "| 0.31|    SI2|  335| 5.814130531825066|\n",
      "+-----+-------+-----+------------------+\n",
      "only showing top 5 rows\n",
      "\n"
     ]
    }
   ],
   "source": [
    "df.show(5)"
   ]
  },
  {
   "cell_type": "markdown",
   "metadata": {},
   "source": [
    "Then we call the `build_indep_vars` function discussed above.  The only arguments that *have* to be passed in are the first two; the dataframe and the columns that are independent variables.  All the others are left in here just for explanatory purposes.\n",
    "\n",
    "If you specify anything for `categorical_vars=[...]`, those columns must also be in the independent variables argument.  If you change `keep_intermediate=True`, the modified dataframe will include two extra columns per categorical variable that were intermediate steps to get to the final result.  And if you change `summarizer=False` then you'll need to change the assignment at the beginning to be only `df = build_indep_vars(...)` instead of `df, summarizer = build_indep_vars(...)`, because it will only return the modified dataframe."
   ]
  },
  {
   "cell_type": "code",
   "execution_count": 13,
   "metadata": {},
   "outputs": [],
   "source": [
    "df, summarizer = build_indep_vars(df, \n",
    "                                  ['carat', 'clarity'], \n",
    "                                  categorical_vars=['clarity'], \n",
    "                                  keep_intermediate=False, \n",
    "                                  summarizer=True)"
   ]
  },
  {
   "cell_type": "code",
   "execution_count": 14,
   "metadata": {},
   "outputs": [
    {
     "name": "stdout",
     "output_type": "stream",
     "text": [
      "+-----+-------+-----+------------------+--------------------+\n",
      "|carat|clarity|price|            lprice|          indep_vars|\n",
      "+-----+-------+-----+------------------+--------------------+\n",
      "| 0.23|    SI2|  326| 5.786897381366708|(8,[0,3],[0.23,1.0])|\n",
      "| 0.21|    SI1|  326| 5.786897381366708|(8,[0,1],[0.21,1.0])|\n",
      "| 0.23|    VS1|  327|5.7899601708972535|(8,[0,4],[0.23,1.0])|\n",
      "| 0.29|    VS2|  334| 5.811140992976701|(8,[0,2],[0.29,1.0])|\n",
      "| 0.31|    SI2|  335| 5.814130531825066|(8,[0,3],[0.31,1.0])|\n",
      "+-----+-------+-----+------------------+--------------------+\n",
      "only showing top 5 rows\n",
      "\n"
     ]
    }
   ],
   "source": [
    "df.show(5)"
   ]
  },
  {
   "cell_type": "markdown",
   "metadata": {},
   "source": [
    "We'll skip any more explanation of the contents of the `indep_vars` column, other than to note that it contains all the information necessary for the calculation of the right hand side of our equation.  \n",
    "\n",
    "# Running GLM\n",
    "\n",
    "We can now move on to analysis.  There are two steps to this: First a structure is specified for the GLM equation.  Note once again that we specify the names of the columns that have our **dependent and independent** variables using the common machine learning terms, **label and features**.  Then we fit that GLM equation to our data to get a model.  Most types of analysis in pySpark follow this general format.\n",
    "\n",
    "We will test it using a stanard gaussian distribution with an identity link function, making it equivalent to OLS.  From the pySpark ML documentation, other supported distributions and link functions are:\n",
    "\n",
    "    “gaussian” -> “identity”, “log”, “inverse”\n",
    "    “binomial” -> “logit”, “probit”, “cloglog”\n",
    "    “poisson” -> “log”, “identity”, “sqrt”\n",
    "    “gamma” -> “inverse”, “identity”, “log”"
   ]
  },
  {
   "cell_type": "code",
   "execution_count": 15,
   "metadata": {
    "collapsed": true
   },
   "outputs": [],
   "source": [
    "from pyspark.ml.regression import GeneralizedLinearRegression\n",
    "\n",
    "glm = GeneralizedLinearRegression(family='gaussian', \n",
    "                                  link='identity', \n",
    "                                  labelCol='lprice', \n",
    "                                  featuresCol='indep_vars', \n",
    "                                  fitIntercept=True)\n",
    "\n",
    "model = glm.fit(df)"
   ]
  },
  {
   "cell_type": "markdown",
   "metadata": {},
   "source": [
    "We can query the results directly from the model, without using the `summarizer` that the `build_indep_vars` function generated:"
   ]
  },
  {
   "cell_type": "code",
   "execution_count": 16,
   "metadata": {},
   "outputs": [
    {
     "data": {
      "text/plain": [
       "DenseVector([2.0808, 0.7221, 0.8172, 0.5682, 0.8555, 0.9341, 0.9195, 0.9979])"
      ]
     },
     "execution_count": 16,
     "metadata": {},
     "output_type": "execute_result"
    }
   ],
   "source": [
    "model.coefficients"
   ]
  },
  {
   "cell_type": "code",
   "execution_count": 17,
   "metadata": {},
   "outputs": [
    {
     "data": {
      "text/plain": [
       "5.356165273724909"
      ]
     },
     "execution_count": 17,
     "metadata": {},
     "output_type": "execute_result"
    }
   ],
   "source": [
    "model.intercept"
   ]
  },
  {
   "cell_type": "code",
   "execution_count": 18,
   "metadata": {},
   "outputs": [
    {
     "data": {
      "text/plain": [
       "[573.8145328923426,\n",
       " 51.24311447314843,\n",
       " 57.736801306869914,\n",
       " 40.069982524765486,\n",
       " 59.53629044537795,\n",
       " 63.12762399645197,\n",
       " 60.46906625364304,\n",
       " 60.69082330168219,\n",
       " 372.05231564539275]"
      ]
     },
     "execution_count": 18,
     "metadata": {},
     "output_type": "execute_result"
    }
   ],
   "source": [
    "model.summary.tValues"
   ]
  },
  {
   "cell_type": "code",
   "execution_count": 19,
   "metadata": {},
   "outputs": [
    {
     "data": {
      "text/plain": [
       "[0.0036263332330212492,\n",
       " 0.014091572711412436,\n",
       " 0.014154515091987462,\n",
       " 0.014180739640881894,\n",
       " 0.014369486052126049,\n",
       " 0.01479661778476952,\n",
       " 0.015205659565030371,\n",
       " 0.01644307646451729,\n",
       " 0.014396269149497595]"
      ]
     },
     "execution_count": 19,
     "metadata": {},
     "output_type": "execute_result"
    }
   ],
   "source": [
    "model.summary.coefficientStandardErrors"
   ]
  },
  {
   "cell_type": "markdown",
   "metadata": {},
   "source": [
    "Notice however that pySpark does not relate model parameters to variable names.  They are returned in the same order as the independent variables we passed into `build_indep_vars`, but particularly when one or more columns are expanded into dummy variables, this relationship may not be clear.\n",
    "\n",
    "In the Stata output this is clearly done for our continuous independent variable, but not for our dummies.  If we are interested in the coefficients in Stata, we can get them easily because Stata stores the `encode` info in memory: "
   ]
  },
  {
   "cell_type": "code",
   "execution_count": null,
   "metadata": {},
   "outputs": [],
   "source": [
    "Image(filename='stata_list.PNG')"
   ]
  },
  {
   "cell_type": "markdown",
   "metadata": {},
   "source": [
    "In pySpark, this is where the `summarizer` comes in.  We acess nicely formatted output by passing the `model` we just created into the `summarize` method, like this:"
   ]
  },
  {
   "cell_type": "code",
   "execution_count": 21,
   "metadata": {},
   "outputs": [
    {
     "name": "stdout",
     "output_type": "stream",
     "text": [
      "---------------------------------------------------------\n",
      "               |   Coef    Std Err    T Stat    P Val   \n",
      "---------------------------------------------------------\n",
      "      intercept|  5.3562    0.0036   573.8145    0.0    \n",
      "          carat|  2.0808    0.0141   51.2431     0.0    \n",
      "            SI1|  0.7221    0.0142   57.7368     0.0    \n",
      "            VS2|  0.8172    0.0142    40.07      0.0    \n",
      "            SI2|  0.5682    0.0144   59.5363     0.0    \n",
      "            VS1|  0.8555    0.0148   63.1276     0.0    \n",
      "           VVS2|  0.9341    0.0152   60.4691     0.0    \n",
      "           VVS1|  0.9195    0.0164   60.6908     0.0    \n",
      "             IF|  0.9979    0.0144   372.0523    0.0    \n",
      "---------------------------------------------------------\n"
     ]
    }
   ],
   "source": [
    "summarizer.summarize(model)"
   ]
  },
  {
   "cell_type": "markdown",
   "metadata": {},
   "source": [
    "The summarizer also keeps track of the relationships between the column names and their indexes used in the vector for calculation:"
   ]
  },
  {
   "cell_type": "code",
   "execution_count": 22,
   "metadata": {},
   "outputs": [
    {
     "data": {
      "text/plain": [
       "{0: 'carat',\n",
       " 1: u'SI1',\n",
       " 2: u'VS2',\n",
       " 3: u'SI2',\n",
       " 4: u'VS1',\n",
       " 5: u'VVS2',\n",
       " 6: u'VVS1',\n",
       " 7: u'IF'}"
      ]
     },
     "execution_count": 22,
     "metadata": {},
     "output_type": "execute_result"
    }
   ],
   "source": [
    "summarizer.param_crosswalk"
   ]
  },
  {
   "cell_type": "markdown",
   "metadata": {},
   "source": [
    "Finally, please note that the `build_indep_vars` and `summarizer` features are not official parts of pySpark, and were built at Urban to serve as a temporary work-around for the lack of an easy way to accomplish nice output.  In limited testing it has worked well for parametric models.  Given that SparkR has a cleaner interface that handles this already, it is expected that pySpark will catch up shortly.\n",
    "\n",
    "If you wish to examine the code behind `build_indep_vars` it is available in the Urban Institute public repository at https://github.com/UrbanInstitute/pyspark-tutorials/tree/master/indep_vars"
   ]
  },
  {
   "cell_type": "code",
   "execution_count": null,
   "metadata": {
    "collapsed": true
   },
   "outputs": [],
   "source": []
  }
 ],
 "metadata": {
  "kernelspec": {
   "display_name": "Python 2",
   "language": "python",
   "name": "python2"
  },
  "language_info": {
   "codemirror_mode": {
    "name": "ipython",
    "version": 2
   },
   "file_extension": ".py",
   "mimetype": "text/x-python",
   "name": "python",
   "nbconvert_exporter": "python",
   "pygments_lexer": "ipython2",
   "version": "2.7.12"
  }
 },
 "nbformat": 4,
 "nbformat_minor": 1
}
